{
 "cells": [
  {
   "cell_type": "markdown",
   "metadata": {},
   "source": [
    "# Using a Datetime Index\n",
    "\n",
    "Python provides a built-in date time function.  Once a datetime object is created, it can be used as an index (row label) for data.  The purpose of this notebook is to provide an introduction to this type of object and its use as an index.\n",
    "\n",
    "This notebook was written using version 3.7.3 of Python."
   ]
  },
  {
   "cell_type": "markdown",
   "metadata": {},
   "source": [
    "### Importing the Necessary Packages\n",
    "\n",
    "The first step in working with time series data is loading the necessary software packages, especially the pandas package."
   ]
  },
  {
   "cell_type": "code",
   "execution_count": 1,
   "metadata": {},
   "outputs": [],
   "source": [
    "# Import the data handling packages\n",
    "import pandas as pd\n",
    "import numpy as np"
   ]
  },
  {
   "cell_type": "code",
   "execution_count": 2,
   "metadata": {},
   "outputs": [],
   "source": [
    "# Import the visualization packages\n",
    "import matplotlib.pyplot as plt\n",
    "\n",
    "# Ensure the visualizations will work within this notebook\n",
    "%matplotlib inline"
   ]
  },
  {
   "cell_type": "code",
   "execution_count": 3,
   "metadata": {},
   "outputs": [],
   "source": [
    "# Import a warnings package to ignore/suppress warnings\n",
    "import warnings\n",
    "warnings.filterwarnings(\"ignore\")"
   ]
  },
  {
   "cell_type": "code",
   "execution_count": 4,
   "metadata": {},
   "outputs": [],
   "source": [
    "# Import the package for using datetime objeccts\n",
    "from datetime import datetime"
   ]
  },
  {
   "cell_type": "markdown",
   "metadata": {},
   "source": [
    "### Working with Datetime Objects\n",
    "\n",
    "Before creating a datetime index, we first need to create a datetime object.  While dates and times will typically be provided within a dataset (such as from Yahoo Finance or FRED), this section walks through the creation of these objects to provide a better illustration of the components of a datetime object.\n",
    "\n",
    "First, we'll create variables that contain information about the month, day, year, etc.  Then, we'll use these variables to create a datetime object."
   ]
  },
  {
   "cell_type": "code",
   "execution_count": 5,
   "metadata": {},
   "outputs": [],
   "source": [
    "# Setup the variables needed to capture month, day, year, etc.\n",
    "year = 2018\n",
    "month = 9\n",
    "day = 24\n",
    "hour = 12\n",
    "minute = 30\n",
    "second = 15"
   ]
  },
  {
   "cell_type": "code",
   "execution_count": 6,
   "metadata": {},
   "outputs": [],
   "source": [
    "# Use these variables to create a datetime object called \"date\"\n",
    "date = datetime(year, month, day)"
   ]
  },
  {
   "cell_type": "code",
   "execution_count": 7,
   "metadata": {},
   "outputs": [
    {
     "data": {
      "text/plain": [
       "datetime.datetime(2018, 9, 24, 0, 0)"
      ]
     },
     "execution_count": 7,
     "metadata": {},
     "output_type": "execute_result"
    }
   ],
   "source": [
    "# View the date information\n",
    "date"
   ]
  },
  {
   "cell_type": "code",
   "execution_count": 8,
   "metadata": {},
   "outputs": [],
   "source": [
    "# Use these variables to create a datetime objected called \"date_and_time\"\n",
    "date_and_time = datetime(year, month, day, hour, minute, second)"
   ]
  },
  {
   "cell_type": "code",
   "execution_count": 9,
   "metadata": {},
   "outputs": [
    {
     "data": {
      "text/plain": [
       "datetime.datetime(2018, 9, 24, 12, 30, 15)"
      ]
     },
     "execution_count": 9,
     "metadata": {},
     "output_type": "execute_result"
    }
   ],
   "source": [
    "# View the date and time information\n",
    "date_and_time"
   ]
  },
  {
   "cell_type": "markdown",
   "metadata": {},
   "source": [
    "Once information is structured as a datetime object, this type of object has methods to help us retrieve portions of the date and time.  Below are some examples of these functions."
   ]
  },
  {
   "cell_type": "code",
   "execution_count": 10,
   "metadata": {},
   "outputs": [
    {
     "data": {
      "text/plain": [
       "2018"
      ]
     },
     "execution_count": 10,
     "metadata": {},
     "output_type": "execute_result"
    }
   ],
   "source": [
    "# Retrieve just the year from the \"date_and_time\" object\n",
    "date_and_time.year"
   ]
  },
  {
   "cell_type": "code",
   "execution_count": 11,
   "metadata": {},
   "outputs": [
    {
     "data": {
      "text/plain": [
       "9"
      ]
     },
     "execution_count": 11,
     "metadata": {},
     "output_type": "execute_result"
    }
   ],
   "source": [
    "# Retrieve just the month from the \"date_and_time\" object\n",
    "date_and_time.month"
   ]
  },
  {
   "cell_type": "code",
   "execution_count": 12,
   "metadata": {},
   "outputs": [
    {
     "data": {
      "text/plain": [
       "24"
      ]
     },
     "execution_count": 12,
     "metadata": {},
     "output_type": "execute_result"
    }
   ],
   "source": [
    "# Retrieve just the day from the \"date_and_time\" object\n",
    "date_and_time.day"
   ]
  },
  {
   "cell_type": "code",
   "execution_count": 13,
   "metadata": {},
   "outputs": [
    {
     "data": {
      "text/plain": [
       "12"
      ]
     },
     "execution_count": 13,
     "metadata": {},
     "output_type": "execute_result"
    }
   ],
   "source": [
    "# Retrieve just the hour from the \"date_and_time\" object\n",
    "date_and_time.hour"
   ]
  },
  {
   "cell_type": "code",
   "execution_count": 14,
   "metadata": {},
   "outputs": [
    {
     "data": {
      "text/plain": [
       "30"
      ]
     },
     "execution_count": 14,
     "metadata": {},
     "output_type": "execute_result"
    }
   ],
   "source": [
    "# Retrieve just the minute from the \"date_and_time\" object\n",
    "date_and_time.minute"
   ]
  },
  {
   "cell_type": "code",
   "execution_count": 15,
   "metadata": {},
   "outputs": [
    {
     "data": {
      "text/plain": [
       "15"
      ]
     },
     "execution_count": 15,
     "metadata": {},
     "output_type": "execute_result"
    }
   ],
   "source": [
    "# Retrieve just the seconds from the \"date_and_time\" object\n",
    "date_and_time.second"
   ]
  },
  {
   "cell_type": "markdown",
   "metadata": {},
   "source": [
    "Using these methods can help us to group data by one of these attributes.  For example, we could group all the data by month.  Or we could group all the data for a year.  This can be very helpful when working to create a subset of data for analysis purposes."
   ]
  },
  {
   "cell_type": "markdown",
   "metadata": {},
   "source": [
    "### Creating a datetime Index\n",
    "\n",
    "Once a datetime object is available, we can use the pandas library to handle the datetime object and convert into a datetime index.  Usually, in a real-world scenario, most financial data will have a datetime object in the dataset.  This data can be retrieved using a package (like yahoofinancials or fredapi) or by loading a CSV file.\n",
    "\n",
    "We usually deal with the time series as the index for the DataFrame created from our dataset.  Fortunately, pandas has a lot of functions and methods for working with time series data.\n",
    "\n",
    "In this example, we will create some datetime objects and then covert these objects into a datetime index."
   ]
  },
  {
   "cell_type": "code",
   "execution_count": 16,
   "metadata": {},
   "outputs": [
    {
     "data": {
      "text/plain": [
       "[datetime.datetime(2018, 9, 24, 0, 0), datetime.datetime(2016, 9, 25, 0, 0)]"
      ]
     },
     "execution_count": 16,
     "metadata": {},
     "output_type": "execute_result"
    }
   ],
   "source": [
    "# Create a list (named \"date_list\") that includes a couple of examples of datetime objects\n",
    "date_list = [datetime(2018, 9, 24), datetime(2016, 9, 25)]\n",
    "\n",
    "# View the list of dates in date_list\n",
    "date_list"
   ]
  },
  {
   "cell_type": "code",
   "execution_count": 17,
   "metadata": {},
   "outputs": [
    {
     "data": {
      "text/plain": [
       "DatetimeIndex(['2018-09-24', '2016-09-25'], dtype='datetime64[ns]', freq=None)"
      ]
     },
     "execution_count": 17,
     "metadata": {},
     "output_type": "execute_result"
    }
   ],
   "source": [
    "# Convert the list of dates into a datetime index called date_dt\n",
    "date_dt = pd.DatetimeIndex(date_list)\n",
    "\n",
    "# View the datetime index\n",
    "date_dt"
   ]
  },
  {
   "cell_type": "markdown",
   "metadata": {},
   "source": [
    "Once the index has been created, we can use this index to create a DataFrame.  In the example below, we use the index and add random numbers for each index."
   ]
  },
  {
   "cell_type": "code",
   "execution_count": 18,
   "metadata": {},
   "outputs": [
    {
     "data": {
      "text/plain": [
       "array([[ 0.07489784, -0.01384147],\n",
       "       [ 0.71707173, -0.20065707]])"
      ]
     },
     "execution_count": 18,
     "metadata": {},
     "output_type": "execute_result"
    }
   ],
   "source": [
    "# Create a set of random data\n",
    "data = np.random.randn(2, 2)\n",
    "\n",
    "# View the random data\n",
    "data"
   ]
  },
  {
   "cell_type": "code",
   "execution_count": 19,
   "metadata": {},
   "outputs": [
    {
     "data": {
      "text/html": [
       "<div>\n",
       "<style scoped>\n",
       "    .dataframe tbody tr th:only-of-type {\n",
       "        vertical-align: middle;\n",
       "    }\n",
       "\n",
       "    .dataframe tbody tr th {\n",
       "        vertical-align: top;\n",
       "    }\n",
       "\n",
       "    .dataframe thead th {\n",
       "        text-align: right;\n",
       "    }\n",
       "</style>\n",
       "<table border=\"1\" class=\"dataframe\">\n",
       "  <thead>\n",
       "    <tr style=\"text-align: right;\">\n",
       "      <th></th>\n",
       "      <th>X</th>\n",
       "      <th>Y</th>\n",
       "    </tr>\n",
       "  </thead>\n",
       "  <tbody>\n",
       "    <tr>\n",
       "      <th>2018-09-24</th>\n",
       "      <td>0.074898</td>\n",
       "      <td>-0.013841</td>\n",
       "    </tr>\n",
       "    <tr>\n",
       "      <th>2016-09-25</th>\n",
       "      <td>0.717072</td>\n",
       "      <td>-0.200657</td>\n",
       "    </tr>\n",
       "  </tbody>\n",
       "</table>\n",
       "</div>"
      ],
      "text/plain": [
       "                   X         Y\n",
       "2018-09-24  0.074898 -0.013841\n",
       "2016-09-25  0.717072 -0.200657"
      ]
     },
     "execution_count": 19,
     "metadata": {},
     "output_type": "execute_result"
    }
   ],
   "source": [
    "# Create a DataFrame that uses date_dt as the index and the array of random numbers for the values\n",
    "data_df = pd.DataFrame(data, date_dt, columns=[\"X\", \"Y\"])\n",
    "\n",
    "# View the resulting DataFrame\n",
    "data_df"
   ]
  },
  {
   "cell_type": "markdown",
   "metadata": {},
   "source": [
    "### Converting Existing Data to Datetime Objects\n",
    "\n",
    "A common part of financial datasets is a date/timestamp.  This data may be a column within the dataset or the index.  We may need to convert this information to a datetime object before it can be converted to a datetime index.  Below are some examples for handling date/time information that appears within a dataset."
   ]
  },
  {
   "cell_type": "markdown",
   "metadata": {},
   "source": [
    "In the first example, we will obtain Apple stock information from Yahoo Finance.  Using this information, we'll determine the typical format for this data and how to convert the dates into datetime objects and then a datetime index."
   ]
  },
  {
   "cell_type": "code",
   "execution_count": 20,
   "metadata": {},
   "outputs": [],
   "source": [
    "# Import the YahooFinancials package so that it can be used within the notebook\n",
    "from yahoofinancials import YahooFinancials as yfin"
   ]
  },
  {
   "cell_type": "code",
   "execution_count": 21,
   "metadata": {},
   "outputs": [],
   "source": [
    "# Get financial information for the companies identified\n",
    "# This creates a YahooFinancials object called \"fin_data_appl\" that contains information\n",
    "fin_data_aapl = yfin (\"AAPL\")"
   ]
  },
  {
   "cell_type": "code",
   "execution_count": 22,
   "metadata": {},
   "outputs": [],
   "source": [
    "# Retrieve historical market data for the company and store the information in an object called \"stock_appl\"\n",
    "stock_aapl = fin_data_aapl.get_historical_price_data (start_date = \"2010-01-01\", \n",
    "                                                      end_date = \"2018-01-01\", \n",
    "                                                      time_interval = \"monthly\")"
   ]
  },
  {
   "cell_type": "code",
   "execution_count": 23,
   "metadata": {},
   "outputs": [],
   "source": [
    "# We can create a DataFrame from the list of prices for AAPL stock\n",
    "# The DataFrame object will be called \"aapl_stock\"\n",
    "aapl_stock = pd.DataFrame(stock_aapl[\"AAPL\"][\"prices\"])"
   ]
  },
  {
   "cell_type": "code",
   "execution_count": 24,
   "metadata": {},
   "outputs": [
    {
     "data": {
      "text/html": [
       "<div>\n",
       "<style scoped>\n",
       "    .dataframe tbody tr th:only-of-type {\n",
       "        vertical-align: middle;\n",
       "    }\n",
       "\n",
       "    .dataframe tbody tr th {\n",
       "        vertical-align: top;\n",
       "    }\n",
       "\n",
       "    .dataframe thead th {\n",
       "        text-align: right;\n",
       "    }\n",
       "</style>\n",
       "<table border=\"1\" class=\"dataframe\">\n",
       "  <thead>\n",
       "    <tr style=\"text-align: right;\">\n",
       "      <th></th>\n",
       "      <th>adjclose</th>\n",
       "      <th>close</th>\n",
       "      <th>date</th>\n",
       "      <th>formatted_date</th>\n",
       "      <th>high</th>\n",
       "      <th>low</th>\n",
       "      <th>open</th>\n",
       "      <th>volume</th>\n",
       "    </tr>\n",
       "  </thead>\n",
       "  <tbody>\n",
       "    <tr>\n",
       "      <th>0</th>\n",
       "      <td>23.816572</td>\n",
       "      <td>27.437143</td>\n",
       "      <td>1262322000</td>\n",
       "      <td>2010-01-01</td>\n",
       "      <td>30.798571</td>\n",
       "      <td>27.178572</td>\n",
       "      <td>30.490000</td>\n",
       "      <td>3792248600</td>\n",
       "    </tr>\n",
       "    <tr>\n",
       "      <th>1</th>\n",
       "      <td>25.374073</td>\n",
       "      <td>29.231428</td>\n",
       "      <td>1265000400</td>\n",
       "      <td>2010-02-01</td>\n",
       "      <td>29.309999</td>\n",
       "      <td>27.264286</td>\n",
       "      <td>27.481428</td>\n",
       "      <td>2694020000</td>\n",
       "    </tr>\n",
       "    <tr>\n",
       "      <th>2</th>\n",
       "      <td>29.141371</td>\n",
       "      <td>33.571430</td>\n",
       "      <td>1267419600</td>\n",
       "      <td>2010-03-01</td>\n",
       "      <td>33.925713</td>\n",
       "      <td>29.350000</td>\n",
       "      <td>29.392857</td>\n",
       "      <td>3038543200</td>\n",
       "    </tr>\n",
       "    <tr>\n",
       "      <th>3</th>\n",
       "      <td>32.376675</td>\n",
       "      <td>37.298573</td>\n",
       "      <td>1270094400</td>\n",
       "      <td>2010-04-01</td>\n",
       "      <td>38.922855</td>\n",
       "      <td>33.250000</td>\n",
       "      <td>33.915714</td>\n",
       "      <td>3091782400</td>\n",
       "    </tr>\n",
       "    <tr>\n",
       "      <th>4</th>\n",
       "      <td>31.854618</td>\n",
       "      <td>36.697144</td>\n",
       "      <td>1272686400</td>\n",
       "      <td>2010-05-01</td>\n",
       "      <td>38.268570</td>\n",
       "      <td>28.464285</td>\n",
       "      <td>37.691429</td>\n",
       "      <td>4520663700</td>\n",
       "    </tr>\n",
       "  </tbody>\n",
       "</table>\n",
       "</div>"
      ],
      "text/plain": [
       "    adjclose      close        date formatted_date       high        low  \\\n",
       "0  23.816572  27.437143  1262322000     2010-01-01  30.798571  27.178572   \n",
       "1  25.374073  29.231428  1265000400     2010-02-01  29.309999  27.264286   \n",
       "2  29.141371  33.571430  1267419600     2010-03-01  33.925713  29.350000   \n",
       "3  32.376675  37.298573  1270094400     2010-04-01  38.922855  33.250000   \n",
       "4  31.854618  36.697144  1272686400     2010-05-01  38.268570  28.464285   \n",
       "\n",
       "        open      volume  \n",
       "0  30.490000  3792248600  \n",
       "1  27.481428  2694020000  \n",
       "2  29.392857  3038543200  \n",
       "3  33.915714  3091782400  \n",
       "4  37.691429  4520663700  "
      ]
     },
     "execution_count": 24,
     "metadata": {},
     "output_type": "execute_result"
    }
   ],
   "source": [
    "# View several of the Apple stock prices within the aapl_stock DataFrame\n",
    "aapl_stock.head()"
   ]
  },
  {
   "cell_type": "code",
   "execution_count": 25,
   "metadata": {},
   "outputs": [
    {
     "name": "stdout",
     "output_type": "stream",
     "text": [
      "<class 'pandas.core.frame.DataFrame'>\n",
      "RangeIndex: 96 entries, 0 to 95\n",
      "Data columns (total 8 columns):\n",
      "adjclose          96 non-null float64\n",
      "close             96 non-null float64\n",
      "date              96 non-null int64\n",
      "formatted_date    96 non-null object\n",
      "high              96 non-null float64\n",
      "low               96 non-null float64\n",
      "open              96 non-null float64\n",
      "volume            96 non-null int64\n",
      "dtypes: float64(5), int64(2), object(1)\n",
      "memory usage: 6.1+ KB\n"
     ]
    }
   ],
   "source": [
    "# View information about the DataFrame that contains stock prices for Apple\n",
    "aapl_stock.info()"
   ]
  },
  {
   "cell_type": "markdown",
   "metadata": {},
   "source": [
    "Based on this output, the formatted_date column (which is the closest thing to a complete date that we have within the dataset) is identified as an object.  We need to make this object a datetime object and then convert it into a datetime index.  Below is the code needed to perform these operations."
   ]
  },
  {
   "cell_type": "code",
   "execution_count": 26,
   "metadata": {},
   "outputs": [
    {
     "data": {
      "text/html": [
       "<div>\n",
       "<style scoped>\n",
       "    .dataframe tbody tr th:only-of-type {\n",
       "        vertical-align: middle;\n",
       "    }\n",
       "\n",
       "    .dataframe tbody tr th {\n",
       "        vertical-align: top;\n",
       "    }\n",
       "\n",
       "    .dataframe thead th {\n",
       "        text-align: right;\n",
       "    }\n",
       "</style>\n",
       "<table border=\"1\" class=\"dataframe\">\n",
       "  <thead>\n",
       "    <tr style=\"text-align: right;\">\n",
       "      <th></th>\n",
       "      <th>adjclose</th>\n",
       "      <th>close</th>\n",
       "      <th>date</th>\n",
       "      <th>Date</th>\n",
       "      <th>high</th>\n",
       "      <th>low</th>\n",
       "      <th>open</th>\n",
       "      <th>volume</th>\n",
       "    </tr>\n",
       "  </thead>\n",
       "  <tbody>\n",
       "    <tr>\n",
       "      <th>0</th>\n",
       "      <td>23.816572</td>\n",
       "      <td>27.437143</td>\n",
       "      <td>1262322000</td>\n",
       "      <td>2010-01-01</td>\n",
       "      <td>30.798571</td>\n",
       "      <td>27.178572</td>\n",
       "      <td>30.490000</td>\n",
       "      <td>3792248600</td>\n",
       "    </tr>\n",
       "    <tr>\n",
       "      <th>1</th>\n",
       "      <td>25.374073</td>\n",
       "      <td>29.231428</td>\n",
       "      <td>1265000400</td>\n",
       "      <td>2010-02-01</td>\n",
       "      <td>29.309999</td>\n",
       "      <td>27.264286</td>\n",
       "      <td>27.481428</td>\n",
       "      <td>2694020000</td>\n",
       "    </tr>\n",
       "    <tr>\n",
       "      <th>2</th>\n",
       "      <td>29.141371</td>\n",
       "      <td>33.571430</td>\n",
       "      <td>1267419600</td>\n",
       "      <td>2010-03-01</td>\n",
       "      <td>33.925713</td>\n",
       "      <td>29.350000</td>\n",
       "      <td>29.392857</td>\n",
       "      <td>3038543200</td>\n",
       "    </tr>\n",
       "    <tr>\n",
       "      <th>3</th>\n",
       "      <td>32.376675</td>\n",
       "      <td>37.298573</td>\n",
       "      <td>1270094400</td>\n",
       "      <td>2010-04-01</td>\n",
       "      <td>38.922855</td>\n",
       "      <td>33.250000</td>\n",
       "      <td>33.915714</td>\n",
       "      <td>3091782400</td>\n",
       "    </tr>\n",
       "    <tr>\n",
       "      <th>4</th>\n",
       "      <td>31.854618</td>\n",
       "      <td>36.697144</td>\n",
       "      <td>1272686400</td>\n",
       "      <td>2010-05-01</td>\n",
       "      <td>38.268570</td>\n",
       "      <td>28.464285</td>\n",
       "      <td>37.691429</td>\n",
       "      <td>4520663700</td>\n",
       "    </tr>\n",
       "  </tbody>\n",
       "</table>\n",
       "</div>"
      ],
      "text/plain": [
       "    adjclose      close        date       Date       high        low  \\\n",
       "0  23.816572  27.437143  1262322000 2010-01-01  30.798571  27.178572   \n",
       "1  25.374073  29.231428  1265000400 2010-02-01  29.309999  27.264286   \n",
       "2  29.141371  33.571430  1267419600 2010-03-01  33.925713  29.350000   \n",
       "3  32.376675  37.298573  1270094400 2010-04-01  38.922855  33.250000   \n",
       "4  31.854618  36.697144  1272686400 2010-05-01  38.268570  28.464285   \n",
       "\n",
       "        open      volume  \n",
       "0  30.490000  3792248600  \n",
       "1  27.481428  2694020000  \n",
       "2  29.392857  3038543200  \n",
       "3  33.915714  3091782400  \n",
       "4  37.691429  4520663700  "
      ]
     },
     "execution_count": 26,
     "metadata": {},
     "output_type": "execute_result"
    }
   ],
   "source": [
    "# Change the name of the formatted_date column to \"Date\"\n",
    "aapl_stock = aapl_stock.rename(columns={\"formatted_date\":\"Date\"})\n",
    "\n",
    "# Make the formatted_date column a datetime object within the aapl_stock DataFrame\n",
    "# Note that it is important that the format keyword match the format of the dates in the formatted_date column\n",
    "aapl_stock[\"Date\"] = pd.to_datetime(aapl_stock[\"Date\"], format=\"%Y-%m-%d\")\n",
    "\n",
    "# View the information in the aapl_stock DataFrame\n",
    "aapl_stock.head()"
   ]
  },
  {
   "cell_type": "code",
   "execution_count": 27,
   "metadata": {},
   "outputs": [
    {
     "name": "stdout",
     "output_type": "stream",
     "text": [
      "<class 'pandas.core.frame.DataFrame'>\n",
      "RangeIndex: 96 entries, 0 to 95\n",
      "Data columns (total 8 columns):\n",
      "adjclose    96 non-null float64\n",
      "close       96 non-null float64\n",
      "date        96 non-null int64\n",
      "Date        96 non-null datetime64[ns]\n",
      "high        96 non-null float64\n",
      "low         96 non-null float64\n",
      "open        96 non-null float64\n",
      "volume      96 non-null int64\n",
      "dtypes: datetime64[ns](1), float64(5), int64(2)\n",
      "memory usage: 6.1 KB\n"
     ]
    }
   ],
   "source": [
    "# View information about the DataFrame that contains stock prices for Apple\n",
    "aapl_stock.info()"
   ]
  },
  {
   "cell_type": "markdown",
   "metadata": {},
   "source": [
    "Notice that the data type for the formatted_date column has changed to a datetime object.  The next step is to convert this object to a datetime index."
   ]
  },
  {
   "cell_type": "code",
   "execution_count": 28,
   "metadata": {},
   "outputs": [
    {
     "data": {
      "text/html": [
       "<div>\n",
       "<style scoped>\n",
       "    .dataframe tbody tr th:only-of-type {\n",
       "        vertical-align: middle;\n",
       "    }\n",
       "\n",
       "    .dataframe tbody tr th {\n",
       "        vertical-align: top;\n",
       "    }\n",
       "\n",
       "    .dataframe thead th {\n",
       "        text-align: right;\n",
       "    }\n",
       "</style>\n",
       "<table border=\"1\" class=\"dataframe\">\n",
       "  <thead>\n",
       "    <tr style=\"text-align: right;\">\n",
       "      <th></th>\n",
       "      <th>adjclose</th>\n",
       "      <th>close</th>\n",
       "      <th>date</th>\n",
       "      <th>high</th>\n",
       "      <th>low</th>\n",
       "      <th>open</th>\n",
       "      <th>volume</th>\n",
       "    </tr>\n",
       "    <tr>\n",
       "      <th>Date</th>\n",
       "      <th></th>\n",
       "      <th></th>\n",
       "      <th></th>\n",
       "      <th></th>\n",
       "      <th></th>\n",
       "      <th></th>\n",
       "      <th></th>\n",
       "    </tr>\n",
       "  </thead>\n",
       "  <tbody>\n",
       "    <tr>\n",
       "      <th>2010-01-01</th>\n",
       "      <td>23.816572</td>\n",
       "      <td>27.437143</td>\n",
       "      <td>1262322000</td>\n",
       "      <td>30.798571</td>\n",
       "      <td>27.178572</td>\n",
       "      <td>30.490000</td>\n",
       "      <td>3792248600</td>\n",
       "    </tr>\n",
       "    <tr>\n",
       "      <th>2010-02-01</th>\n",
       "      <td>25.374073</td>\n",
       "      <td>29.231428</td>\n",
       "      <td>1265000400</td>\n",
       "      <td>29.309999</td>\n",
       "      <td>27.264286</td>\n",
       "      <td>27.481428</td>\n",
       "      <td>2694020000</td>\n",
       "    </tr>\n",
       "    <tr>\n",
       "      <th>2010-03-01</th>\n",
       "      <td>29.141371</td>\n",
       "      <td>33.571430</td>\n",
       "      <td>1267419600</td>\n",
       "      <td>33.925713</td>\n",
       "      <td>29.350000</td>\n",
       "      <td>29.392857</td>\n",
       "      <td>3038543200</td>\n",
       "    </tr>\n",
       "    <tr>\n",
       "      <th>2010-04-01</th>\n",
       "      <td>32.376675</td>\n",
       "      <td>37.298573</td>\n",
       "      <td>1270094400</td>\n",
       "      <td>38.922855</td>\n",
       "      <td>33.250000</td>\n",
       "      <td>33.915714</td>\n",
       "      <td>3091782400</td>\n",
       "    </tr>\n",
       "    <tr>\n",
       "      <th>2010-05-01</th>\n",
       "      <td>31.854618</td>\n",
       "      <td>36.697144</td>\n",
       "      <td>1272686400</td>\n",
       "      <td>38.268570</td>\n",
       "      <td>28.464285</td>\n",
       "      <td>37.691429</td>\n",
       "      <td>4520663700</td>\n",
       "    </tr>\n",
       "  </tbody>\n",
       "</table>\n",
       "</div>"
      ],
      "text/plain": [
       "             adjclose      close        date       high        low       open  \\\n",
       "Date                                                                            \n",
       "2010-01-01  23.816572  27.437143  1262322000  30.798571  27.178572  30.490000   \n",
       "2010-02-01  25.374073  29.231428  1265000400  29.309999  27.264286  27.481428   \n",
       "2010-03-01  29.141371  33.571430  1267419600  33.925713  29.350000  29.392857   \n",
       "2010-04-01  32.376675  37.298573  1270094400  38.922855  33.250000  33.915714   \n",
       "2010-05-01  31.854618  36.697144  1272686400  38.268570  28.464285  37.691429   \n",
       "\n",
       "                volume  \n",
       "Date                    \n",
       "2010-01-01  3792248600  \n",
       "2010-02-01  2694020000  \n",
       "2010-03-01  3038543200  \n",
       "2010-04-01  3091782400  \n",
       "2010-05-01  4520663700  "
      ]
     },
     "execution_count": 28,
     "metadata": {},
     "output_type": "execute_result"
    }
   ],
   "source": [
    "# Change the index of the aapl_stock DataFrame to the information in the Date column\n",
    "aapl_stock = aapl_stock.set_index(\"Date\")\n",
    "\n",
    "# View the first several records in the aapl_stock DataFrame\n",
    "aapl_stock.head()"
   ]
  },
  {
   "cell_type": "code",
   "execution_count": 29,
   "metadata": {},
   "outputs": [
    {
     "name": "stdout",
     "output_type": "stream",
     "text": [
      "<class 'pandas.core.frame.DataFrame'>\n",
      "DatetimeIndex: 96 entries, 2010-01-01 to 2017-12-01\n",
      "Data columns (total 7 columns):\n",
      "adjclose    96 non-null float64\n",
      "close       96 non-null float64\n",
      "date        96 non-null int64\n",
      "high        96 non-null float64\n",
      "low         96 non-null float64\n",
      "open        96 non-null float64\n",
      "volume      96 non-null int64\n",
      "dtypes: float64(5), int64(2)\n",
      "memory usage: 6.0 KB\n"
     ]
    }
   ],
   "source": [
    "# View information about the DataFrame that contains stock prices for Apple\n",
    "aapl_stock.info()"
   ]
  },
  {
   "cell_type": "markdown",
   "metadata": {},
   "source": [
    "Note that the information from the Date datetime object has now been converted to a datetime index."
   ]
  },
  {
   "cell_type": "markdown",
   "metadata": {},
   "source": [
    "In the second example, we will obtain from data from FRED.org.  In this example, we will see that, by importing the data directly from FRED, we have less work to do to setup a datetime index."
   ]
  },
  {
   "cell_type": "code",
   "execution_count": 30,
   "metadata": {},
   "outputs": [],
   "source": [
    "# Import the fredapi package\n",
    "from fredapi import Fred\n",
    "\n",
    "# Create a Fred object that is linked to the appropriate API key\n",
    "fred = Fred(api_key=\"aaa26172cecec292c14f9fac47c826af\")"
   ]
  },
  {
   "cell_type": "code",
   "execution_count": 31,
   "metadata": {},
   "outputs": [],
   "source": [
    "# Pull the data from the FRED database for the NASDAQ Composite Index\n",
    "# Store the data in an object called \"nasdaq_data\"\n",
    "nasdaq_data = fred.get_series (\"NASDAQCOM\")"
   ]
  },
  {
   "cell_type": "code",
   "execution_count": 32,
   "metadata": {},
   "outputs": [],
   "source": [
    "# Convert the pandas Series to a DataFrame and include a column header\n",
    "# Store this DataFrame in an object called \"nasdaq_df\"\n",
    "nasdaq_df = pd.DataFrame(nasdaq_data, columns=[\"NASDAQ\"])"
   ]
  },
  {
   "cell_type": "code",
   "execution_count": 33,
   "metadata": {},
   "outputs": [
    {
     "name": "stdout",
     "output_type": "stream",
     "text": [
      "<class 'pandas.core.frame.DataFrame'>\n",
      "DatetimeIndex: 12803 entries, 1971-02-05 to 2020-03-03\n",
      "Data columns (total 1 columns):\n",
      "NASDAQ    12378 non-null float64\n",
      "dtypes: float64(1)\n",
      "memory usage: 200.0 KB\n"
     ]
    }
   ],
   "source": [
    "# Review information about the DataFrame that contains the FRED data\n",
    "nasdaq_df.info()"
   ]
  },
  {
   "cell_type": "markdown",
   "metadata": {},
   "source": [
    "Based on this information, the dates are already set as a datetime index.  As a result, no specific steps need to be taken to convert the index of this DataFrame to a datetime index."
   ]
  },
  {
   "cell_type": "markdown",
   "metadata": {},
   "source": [
    "# References\n",
    "> (c) 2019 Yves Hilpisch. Code included in _Python for Finance: Mastering Data-driven Finance_ (Second Edition). Yves Hilpisch. 2019.\n",
    ">\n",
    "> (c) 2019 Galit Shmueli, Peter C. Bruce, Peter Gedeck.  Code included in _Data Mining for Business Analytics: Concepts, Techniques, and Applications in Python_ (First Edition). Galit Shmueli, Peter C. Bruce, Peter Gedeck, and Nitin R. Patel. 2019."
   ]
  },
  {
   "cell_type": "code",
   "execution_count": null,
   "metadata": {},
   "outputs": [],
   "source": []
  }
 ],
 "metadata": {
  "kernelspec": {
   "display_name": "Python 3",
   "language": "python",
   "name": "python3"
  },
  "language_info": {
   "codemirror_mode": {
    "name": "ipython",
    "version": 3
   },
   "file_extension": ".py",
   "mimetype": "text/x-python",
   "name": "python",
   "nbconvert_exporter": "python",
   "pygments_lexer": "ipython3",
   "version": "3.7.6"
  }
 },
 "nbformat": 4,
 "nbformat_minor": 2
}
