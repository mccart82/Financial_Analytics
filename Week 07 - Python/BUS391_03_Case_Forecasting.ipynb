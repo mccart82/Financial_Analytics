{
 "cells": [
  {
   "cell_type": "markdown",
   "metadata": {},
   "source": [
    "### Enter your name here\n",
    "\n",
    "Name"
   ]
  },
  {
   "cell_type": "markdown",
   "metadata": {},
   "source": [
    "# BUS391 Case: Forecasting and Python\n",
    "\n",
    "This case covers Weeks 06 and 07 of the BUS391 course.  As part of completing this work, you may need knowledge from other weeks in the course (as everything builds on each other in programming), but the focus is work from Weeks 06 and 07.  All of the work for this case should be documented within this Jupyter Notebook.\n",
    "\n",
    "This case will be graded using the following standards:\n",
    "* A “no credit” grade indicates that significant gaps exist between the submitted assignment and the expectations such that no credit could be assessed.  \n",
    "* A “needs improvement” grade indicates that you have a good start on meeting the expectations but need further work on the assignment to achieve a “pass” grade.  \n",
    "* A “pass” grade indicates that you have mastered the associated learning outcome.  \n",
    "* A “superior pass” grade is reserved for work that goes significantly beyond mastery of the outcome.  To achieve this designation, the submitted activity must show work that is beyond the provided requirements and adds substantial academic value.\n",
    "\n",
    "Specifically, for this case, a \"pass\" is correct completion of each of the questions/scenarios.  All code should be well commented and follow a logical progression.  Logically break up the code into cells (as appropriate) to make troubleshooting and reading the code easier.  The code should run without error from beginning to end.  Any references used in the completion of this assignment should be listed at the end of this notebook. \n",
    "\n",
    "The Canvas submission should be this Jupyter notebook (required).  If you have other files (related to attempting a \"superior pass\" for this assignment), please include those in your submission."
   ]
  },
  {
   "cell_type": "markdown",
   "metadata": {},
   "source": [
    "### Question 1:  Getting the Dataset\n",
    "\n",
    "Your boss is interested in forecasting monthly stock prices. Your job is to do the following:\n",
    "* Using an appropriate Python package, obtain the last 5 years of stock information for a company of your choosing.\n",
    "* Create a DataFrame to contain this information.\n",
    "* Perform any data cleaning that is appropriate on the DataFrame (make sure the DataFrame includes at least 500 data points when the cleaning is complete).\n",
    "\n",
    "Make sure that the last line of code for this section displays your completed DataFrame."
   ]
  },
  {
   "cell_type": "markdown",
   "metadata": {},
   "source": [
    "**Questions**\n",
    "\n",
    "Which Python package did you choose to use to pull the information about the company?  Why did you choose this package?\n",
    "\n",
    "Your answer here\n",
    "\n",
    "Review the data in your DataFrame.  Are there any issues within the DataFrame that may need to be corrected before doing further analysis?  If so, what issues exist?\n",
    "\n",
    "Your answer here"
   ]
  },
  {
   "cell_type": "code",
   "execution_count": 2,
   "metadata": {},
   "outputs": [],
   "source": [
    "# Write your code here\n",
    "# You can add additional cells as needed (you do not need to put all code in a single cell)"
   ]
  },
  {
   "cell_type": "markdown",
   "metadata": {},
   "source": [
    "### Question 2:  Setting Up the Data for Forecasting\n",
    "\n",
    "Now that you have the stock prices for your company, the next step is to prepare the dataset for forecasting.  Specifically, your boss is interested in forecasting the adjusted close price on a monthly basis.  Your job is to do the following:\n",
    "* Setup a DataFrame that only includes the adjusted close price for the stock.\n",
    "* Make sure that a DateTime index exists for this new DataFrame.\n",
    "* Ensure the data has an interval of monthly.\n",
    "* Create a visualization showing the adjusted close price on a monthly basis.\n",
    "\n",
    "Make sure that the last line of code for this section displays your new DataFrame."
   ]
  },
  {
   "cell_type": "markdown",
   "metadata": {},
   "source": [
    "**Questions**\n",
    "\n",
    "What is the current interval for the stock data (before you make any changes)?\n",
    "\n",
    "Your answer here\n",
    "\n",
    "What method is used in Python to change the interval of the data (if needed)?\n",
    "\n",
    "Your answer here"
   ]
  },
  {
   "cell_type": "code",
   "execution_count": 3,
   "metadata": {},
   "outputs": [],
   "source": [
    "# Write your code here\n",
    "# You can add additional cells as needed (you do not need to put all code in a single cell)"
   ]
  },
  {
   "cell_type": "markdown",
   "metadata": {},
   "source": [
    "### Question 3:  Forecasting the Stock Price\n",
    "\n",
    "Once you have a DataFrame with the appropriate information, the final step is to do the necessary forecasting.  The goal is to add each of the following forecasts to the DataFrame that you prepared for forecasting.\n",
    "\n",
    "Complete the following forecasts:\n",
    "* Calculate a naive forecast for the dataset and add that forecast to the forecasting data DataFrame.\n",
    "* Calculate a simple moving average forecast (k=8) and add that forecast to the forecasting data DataFrame.\n",
    "* Calculate a weighted moving average forecast (k=8) using 1, 2, 3, ..., 8 as the constants.  Add that forecast to the forecasting data DataFrame.\n",
    "* Calculate a exponential moving average forecast (k=8) and add that forecast to the forecasting data dataset.\n",
    "\n",
    "Visualize the forecasting data, the simple moving average, the weighted moving average, and the exponential moving average on the same plot."
   ]
  },
  {
   "cell_type": "markdown",
   "metadata": {},
   "source": [
    "**Questions**\n",
    "\n",
    "Of the forecasting methods you completed for this question, which forecast do you think is the most accurate?  Why?\n",
    "\n",
    "Your answer here"
   ]
  },
  {
   "cell_type": "code",
   "execution_count": 4,
   "metadata": {},
   "outputs": [],
   "source": [
    "# Write your code here\n",
    "# You can add additional cells as needed (you do not need to put all code in a single cell)"
   ]
  },
  {
   "cell_type": "markdown",
   "metadata": {},
   "source": [
    "### Suggestions for Attempting a \"Superior Pass\" for this Case\n",
    "\n",
    "Here are some potential ways to achieve a \"superior pass\" for this case.  Note that these do not guarantee a superior pass, nor are they inclusive of all the different things you could do to achieve this designation - they are just a list of starting points.\n",
    "* Write out each of the DataFrames you've connected to a CSV or Excel file (one DataFrame per file).\n",
    "* Visualize the data in one of the DataFrames (if not already required by the question).\n",
    "* Investigate the packages we've covered and try out other functionality provided by these packages that we didn't cover in class.\n",
    "* Use Spyder to create a function that includes all the code that was completed above.\n",
    "\n",
    "If you do decide to attempt additional work to achieve a superior pass designation, make sure to describe below what you attempted and why you selected this approach.  Enter your code below."
   ]
  },
  {
   "cell_type": "markdown",
   "metadata": {},
   "source": [
    "**Description**\n",
    "\n",
    "Enter description here"
   ]
  },
  {
   "cell_type": "code",
   "execution_count": 5,
   "metadata": {},
   "outputs": [],
   "source": [
    "# Write your code here\n",
    "# You can add additional cells as needed (you do not need to put all code in a single cell)"
   ]
  }
 ],
 "metadata": {
  "kernelspec": {
   "display_name": "Python 3",
   "language": "python",
   "name": "python3"
  },
  "language_info": {
   "codemirror_mode": {
    "name": "ipython",
    "version": 3
   },
   "file_extension": ".py",
   "mimetype": "text/x-python",
   "name": "python",
   "nbconvert_exporter": "python",
   "pygments_lexer": "ipython3",
   "version": "3.7.3"
  }
 },
 "nbformat": 4,
 "nbformat_minor": 2
}
